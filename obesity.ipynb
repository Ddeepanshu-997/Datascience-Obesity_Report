{
 "cells": [
  {
   "cell_type": "code",
   "execution_count": 175,
   "metadata": {},
   "outputs": [],
   "source": [
    "import numpy as np \n",
    "import pandas as pd\n",
    "import matplotlib.pyplot as plt\n",
    "import seaborn as sns"
   ]
  },
  {
   "cell_type": "markdown",
   "metadata": {},
   "source": [
    "importing the dataset"
   ]
  },
  {
   "cell_type": "code",
   "execution_count": 176,
   "metadata": {},
   "outputs": [],
   "source": [
    "data= pd.read_csv('D:\\PROJECTS\\project csv files\\obesity.csv')"
   ]
  },
  {
   "cell_type": "markdown",
   "metadata": {},
   "source": [
    "analysing the dataset"
   ]
  },
  {
   "cell_type": "code",
   "execution_count": 177,
   "metadata": {},
   "outputs": [
    {
     "data": {
      "text/html": [
       "<div>\n",
       "<style scoped>\n",
       "    .dataframe tbody tr th:only-of-type {\n",
       "        vertical-align: middle;\n",
       "    }\n",
       "\n",
       "    .dataframe tbody tr th {\n",
       "        vertical-align: top;\n",
       "    }\n",
       "\n",
       "    .dataframe thead th {\n",
       "        text-align: right;\n",
       "    }\n",
       "</style>\n",
       "<table border=\"1\" class=\"dataframe\">\n",
       "  <thead>\n",
       "    <tr style=\"text-align: right;\">\n",
       "      <th></th>\n",
       "      <th>Gender</th>\n",
       "      <th>Age</th>\n",
       "      <th>family_history_with_overweight</th>\n",
       "      <th>FAVC</th>\n",
       "      <th>FCVC</th>\n",
       "      <th>NCP</th>\n",
       "      <th>CAEC</th>\n",
       "      <th>SMOKE</th>\n",
       "      <th>CH2O</th>\n",
       "      <th>SCC</th>\n",
       "      <th>FAF</th>\n",
       "      <th>TUE</th>\n",
       "      <th>CALC</th>\n",
       "      <th>Automobile</th>\n",
       "      <th>Bike</th>\n",
       "      <th>Motorbike</th>\n",
       "      <th>Public_Transportation</th>\n",
       "      <th>Walking</th>\n",
       "      <th>NObeyesdad</th>\n",
       "    </tr>\n",
       "  </thead>\n",
       "  <tbody>\n",
       "    <tr>\n",
       "      <th>0</th>\n",
       "      <td>0</td>\n",
       "      <td>21.000000</td>\n",
       "      <td>1</td>\n",
       "      <td>0</td>\n",
       "      <td>2.0</td>\n",
       "      <td>3.0</td>\n",
       "      <td>1</td>\n",
       "      <td>0</td>\n",
       "      <td>2.000000</td>\n",
       "      <td>0</td>\n",
       "      <td>0.000000</td>\n",
       "      <td>1.000000</td>\n",
       "      <td>0</td>\n",
       "      <td>0</td>\n",
       "      <td>0</td>\n",
       "      <td>0</td>\n",
       "      <td>1</td>\n",
       "      <td>0</td>\n",
       "      <td>0</td>\n",
       "    </tr>\n",
       "    <tr>\n",
       "      <th>1</th>\n",
       "      <td>0</td>\n",
       "      <td>21.000000</td>\n",
       "      <td>1</td>\n",
       "      <td>0</td>\n",
       "      <td>3.0</td>\n",
       "      <td>3.0</td>\n",
       "      <td>1</td>\n",
       "      <td>1</td>\n",
       "      <td>3.000000</td>\n",
       "      <td>1</td>\n",
       "      <td>3.000000</td>\n",
       "      <td>0.000000</td>\n",
       "      <td>1</td>\n",
       "      <td>0</td>\n",
       "      <td>0</td>\n",
       "      <td>0</td>\n",
       "      <td>1</td>\n",
       "      <td>0</td>\n",
       "      <td>0</td>\n",
       "    </tr>\n",
       "    <tr>\n",
       "      <th>2</th>\n",
       "      <td>1</td>\n",
       "      <td>23.000000</td>\n",
       "      <td>1</td>\n",
       "      <td>0</td>\n",
       "      <td>2.0</td>\n",
       "      <td>3.0</td>\n",
       "      <td>1</td>\n",
       "      <td>0</td>\n",
       "      <td>2.000000</td>\n",
       "      <td>0</td>\n",
       "      <td>2.000000</td>\n",
       "      <td>1.000000</td>\n",
       "      <td>2</td>\n",
       "      <td>0</td>\n",
       "      <td>0</td>\n",
       "      <td>0</td>\n",
       "      <td>1</td>\n",
       "      <td>0</td>\n",
       "      <td>0</td>\n",
       "    </tr>\n",
       "    <tr>\n",
       "      <th>3</th>\n",
       "      <td>1</td>\n",
       "      <td>27.000000</td>\n",
       "      <td>0</td>\n",
       "      <td>0</td>\n",
       "      <td>3.0</td>\n",
       "      <td>3.0</td>\n",
       "      <td>1</td>\n",
       "      <td>0</td>\n",
       "      <td>2.000000</td>\n",
       "      <td>0</td>\n",
       "      <td>2.000000</td>\n",
       "      <td>0.000000</td>\n",
       "      <td>2</td>\n",
       "      <td>0</td>\n",
       "      <td>0</td>\n",
       "      <td>0</td>\n",
       "      <td>0</td>\n",
       "      <td>1</td>\n",
       "      <td>0</td>\n",
       "    </tr>\n",
       "    <tr>\n",
       "      <th>4</th>\n",
       "      <td>1</td>\n",
       "      <td>22.000000</td>\n",
       "      <td>0</td>\n",
       "      <td>0</td>\n",
       "      <td>2.0</td>\n",
       "      <td>1.0</td>\n",
       "      <td>1</td>\n",
       "      <td>0</td>\n",
       "      <td>2.000000</td>\n",
       "      <td>0</td>\n",
       "      <td>0.000000</td>\n",
       "      <td>0.000000</td>\n",
       "      <td>1</td>\n",
       "      <td>0</td>\n",
       "      <td>0</td>\n",
       "      <td>0</td>\n",
       "      <td>1</td>\n",
       "      <td>0</td>\n",
       "      <td>0</td>\n",
       "    </tr>\n",
       "    <tr>\n",
       "      <th>...</th>\n",
       "      <td>...</td>\n",
       "      <td>...</td>\n",
       "      <td>...</td>\n",
       "      <td>...</td>\n",
       "      <td>...</td>\n",
       "      <td>...</td>\n",
       "      <td>...</td>\n",
       "      <td>...</td>\n",
       "      <td>...</td>\n",
       "      <td>...</td>\n",
       "      <td>...</td>\n",
       "      <td>...</td>\n",
       "      <td>...</td>\n",
       "      <td>...</td>\n",
       "      <td>...</td>\n",
       "      <td>...</td>\n",
       "      <td>...</td>\n",
       "      <td>...</td>\n",
       "      <td>...</td>\n",
       "    </tr>\n",
       "    <tr>\n",
       "      <th>2106</th>\n",
       "      <td>0</td>\n",
       "      <td>20.976842</td>\n",
       "      <td>1</td>\n",
       "      <td>1</td>\n",
       "      <td>3.0</td>\n",
       "      <td>3.0</td>\n",
       "      <td>1</td>\n",
       "      <td>0</td>\n",
       "      <td>1.728139</td>\n",
       "      <td>0</td>\n",
       "      <td>1.676269</td>\n",
       "      <td>0.906247</td>\n",
       "      <td>1</td>\n",
       "      <td>0</td>\n",
       "      <td>0</td>\n",
       "      <td>0</td>\n",
       "      <td>1</td>\n",
       "      <td>0</td>\n",
       "      <td>1</td>\n",
       "    </tr>\n",
       "    <tr>\n",
       "      <th>2107</th>\n",
       "      <td>0</td>\n",
       "      <td>21.982942</td>\n",
       "      <td>1</td>\n",
       "      <td>1</td>\n",
       "      <td>3.0</td>\n",
       "      <td>3.0</td>\n",
       "      <td>1</td>\n",
       "      <td>0</td>\n",
       "      <td>2.005130</td>\n",
       "      <td>0</td>\n",
       "      <td>1.341390</td>\n",
       "      <td>0.599270</td>\n",
       "      <td>1</td>\n",
       "      <td>0</td>\n",
       "      <td>0</td>\n",
       "      <td>0</td>\n",
       "      <td>1</td>\n",
       "      <td>0</td>\n",
       "      <td>1</td>\n",
       "    </tr>\n",
       "    <tr>\n",
       "      <th>2108</th>\n",
       "      <td>0</td>\n",
       "      <td>22.524036</td>\n",
       "      <td>1</td>\n",
       "      <td>1</td>\n",
       "      <td>3.0</td>\n",
       "      <td>3.0</td>\n",
       "      <td>1</td>\n",
       "      <td>0</td>\n",
       "      <td>2.054193</td>\n",
       "      <td>0</td>\n",
       "      <td>1.414209</td>\n",
       "      <td>0.646288</td>\n",
       "      <td>1</td>\n",
       "      <td>0</td>\n",
       "      <td>0</td>\n",
       "      <td>0</td>\n",
       "      <td>1</td>\n",
       "      <td>0</td>\n",
       "      <td>1</td>\n",
       "    </tr>\n",
       "    <tr>\n",
       "      <th>2109</th>\n",
       "      <td>0</td>\n",
       "      <td>24.361936</td>\n",
       "      <td>1</td>\n",
       "      <td>1</td>\n",
       "      <td>3.0</td>\n",
       "      <td>3.0</td>\n",
       "      <td>1</td>\n",
       "      <td>0</td>\n",
       "      <td>2.852339</td>\n",
       "      <td>0</td>\n",
       "      <td>1.139107</td>\n",
       "      <td>0.586035</td>\n",
       "      <td>1</td>\n",
       "      <td>0</td>\n",
       "      <td>0</td>\n",
       "      <td>0</td>\n",
       "      <td>1</td>\n",
       "      <td>0</td>\n",
       "      <td>1</td>\n",
       "    </tr>\n",
       "    <tr>\n",
       "      <th>2110</th>\n",
       "      <td>0</td>\n",
       "      <td>23.664709</td>\n",
       "      <td>1</td>\n",
       "      <td>1</td>\n",
       "      <td>3.0</td>\n",
       "      <td>3.0</td>\n",
       "      <td>1</td>\n",
       "      <td>0</td>\n",
       "      <td>2.863513</td>\n",
       "      <td>0</td>\n",
       "      <td>1.026452</td>\n",
       "      <td>0.714137</td>\n",
       "      <td>1</td>\n",
       "      <td>0</td>\n",
       "      <td>0</td>\n",
       "      <td>0</td>\n",
       "      <td>1</td>\n",
       "      <td>0</td>\n",
       "      <td>1</td>\n",
       "    </tr>\n",
       "  </tbody>\n",
       "</table>\n",
       "<p>2111 rows × 19 columns</p>\n",
       "</div>"
      ],
      "text/plain": [
       "      Gender        Age  family_history_with_overweight  FAVC  FCVC  NCP  \\\n",
       "0          0  21.000000                               1     0   2.0  3.0   \n",
       "1          0  21.000000                               1     0   3.0  3.0   \n",
       "2          1  23.000000                               1     0   2.0  3.0   \n",
       "3          1  27.000000                               0     0   3.0  3.0   \n",
       "4          1  22.000000                               0     0   2.0  1.0   \n",
       "...      ...        ...                             ...   ...   ...  ...   \n",
       "2106       0  20.976842                               1     1   3.0  3.0   \n",
       "2107       0  21.982942                               1     1   3.0  3.0   \n",
       "2108       0  22.524036                               1     1   3.0  3.0   \n",
       "2109       0  24.361936                               1     1   3.0  3.0   \n",
       "2110       0  23.664709                               1     1   3.0  3.0   \n",
       "\n",
       "      CAEC  SMOKE      CH2O  SCC       FAF       TUE  CALC  Automobile  Bike  \\\n",
       "0        1      0  2.000000    0  0.000000  1.000000     0           0     0   \n",
       "1        1      1  3.000000    1  3.000000  0.000000     1           0     0   \n",
       "2        1      0  2.000000    0  2.000000  1.000000     2           0     0   \n",
       "3        1      0  2.000000    0  2.000000  0.000000     2           0     0   \n",
       "4        1      0  2.000000    0  0.000000  0.000000     1           0     0   \n",
       "...    ...    ...       ...  ...       ...       ...   ...         ...   ...   \n",
       "2106     1      0  1.728139    0  1.676269  0.906247     1           0     0   \n",
       "2107     1      0  2.005130    0  1.341390  0.599270     1           0     0   \n",
       "2108     1      0  2.054193    0  1.414209  0.646288     1           0     0   \n",
       "2109     1      0  2.852339    0  1.139107  0.586035     1           0     0   \n",
       "2110     1      0  2.863513    0  1.026452  0.714137     1           0     0   \n",
       "\n",
       "      Motorbike  Public_Transportation  Walking  NObeyesdad  \n",
       "0             0                      1        0           0  \n",
       "1             0                      1        0           0  \n",
       "2             0                      1        0           0  \n",
       "3             0                      0        1           0  \n",
       "4             0                      1        0           0  \n",
       "...         ...                    ...      ...         ...  \n",
       "2106          0                      1        0           1  \n",
       "2107          0                      1        0           1  \n",
       "2108          0                      1        0           1  \n",
       "2109          0                      1        0           1  \n",
       "2110          0                      1        0           1  \n",
       "\n",
       "[2111 rows x 19 columns]"
      ]
     },
     "execution_count": 177,
     "metadata": {},
     "output_type": "execute_result"
    }
   ],
   "source": [
    "data"
   ]
  },
  {
   "cell_type": "markdown",
   "metadata": {},
   "source": [
    "how many males and females are there"
   ]
  },
  {
   "cell_type": "code",
   "execution_count": 178,
   "metadata": {},
   "outputs": [
    {
     "data": {
      "text/plain": [
       "Gender\n",
       "1    1068\n",
       "0    1043\n",
       "Name: count, dtype: int64"
      ]
     },
     "execution_count": 178,
     "metadata": {},
     "output_type": "execute_result"
    }
   ],
   "source": [
    "gids=data['Gender'].value_counts()\n",
    "gids"
   ]
  },
  {
   "cell_type": "markdown",
   "metadata": {},
   "source": [
    "checking for the null values"
   ]
  },
  {
   "cell_type": "code",
   "execution_count": 179,
   "metadata": {},
   "outputs": [
    {
     "data": {
      "text/plain": [
       "Gender                            0\n",
       "Age                               0\n",
       "family_history_with_overweight    0\n",
       "FAVC                              0\n",
       "FCVC                              0\n",
       "NCP                               0\n",
       "CAEC                              0\n",
       "SMOKE                             0\n",
       "CH2O                              0\n",
       "SCC                               0\n",
       "FAF                               0\n",
       "TUE                               0\n",
       "CALC                              0\n",
       "Automobile                        0\n",
       "Bike                              0\n",
       "Motorbike                         0\n",
       "Public_Transportation             0\n",
       "Walking                           0\n",
       "NObeyesdad                        0\n",
       "dtype: int64"
      ]
     },
     "execution_count": 179,
     "metadata": {},
     "output_type": "execute_result"
    }
   ],
   "source": [
    "data.isna().sum()"
   ]
  },
  {
   "cell_type": "markdown",
   "metadata": {},
   "source": [
    "checking for the duplicate data\n"
   ]
  },
  {
   "cell_type": "code",
   "execution_count": 180,
   "metadata": {},
   "outputs": [
    {
     "data": {
      "text/plain": [
       "0       False\n",
       "1       False\n",
       "2       False\n",
       "3       False\n",
       "4       False\n",
       "        ...  \n",
       "2106    False\n",
       "2107    False\n",
       "2108    False\n",
       "2109    False\n",
       "2110    False\n",
       "Length: 2111, dtype: bool"
      ]
     },
     "execution_count": 180,
     "metadata": {},
     "output_type": "execute_result"
    }
   ],
   "source": [
    "data.duplicated(keep='first')"
   ]
  },
  {
   "cell_type": "markdown",
   "metadata": {},
   "source": [
    "average age of data"
   ]
  },
  {
   "cell_type": "code",
   "execution_count": 181,
   "metadata": {},
   "outputs": [
    {
     "data": {
      "text/plain": [
       "24.312599908574136"
      ]
     },
     "execution_count": 181,
     "metadata": {},
     "output_type": "execute_result"
    }
   ],
   "source": [
    "aad=data['Age'].mean()\n",
    "aad"
   ]
  },
  {
   "cell_type": "markdown",
   "metadata": {},
   "source": [
    "average age of obese people"
   ]
  },
  {
   "cell_type": "code",
   "execution_count": 182,
   "metadata": {},
   "outputs": [
    {
     "data": {
      "text/plain": [
       "25.806180991769548"
      ]
     },
     "execution_count": 182,
     "metadata": {},
     "output_type": "execute_result"
    }
   ],
   "source": [
    "aop=data[data['NObeyesdad']==1]['Age']\n",
    "p=aop.mean()\n",
    "p"
   ]
  },
  {
   "cell_type": "markdown",
   "metadata": {},
   "source": [
    "how many people workout"
   ]
  },
  {
   "cell_type": "code",
   "execution_count": 183,
   "metadata": {},
   "outputs": [
    {
     "data": {
      "text/plain": [
       "FAF\n",
       "0.000000    411\n",
       "1.000000    234\n",
       "2.000000    183\n",
       "3.000000     75\n",
       "0.110174      2\n",
       "           ... \n",
       "1.916751      1\n",
       "0.954459      1\n",
       "0.340915      1\n",
       "0.986414      1\n",
       "1.026452      1\n",
       "Name: count, Length: 1190, dtype: int64"
      ]
     },
     "execution_count": 183,
     "metadata": {},
     "output_type": "execute_result"
    }
   ],
   "source": [
    "pwds=data['FAF'].value_counts()\n",
    "pwds"
   ]
  },
  {
   "cell_type": "markdown",
   "metadata": {},
   "source": [
    "how many obese people workout"
   ]
  },
  {
   "cell_type": "code",
   "execution_count": 184,
   "metadata": {},
   "outputs": [
    {
     "name": "stdout",
     "output_type": "stream",
     "text": [
      "FAF\n",
      "0.000000    196\n",
      "1.000000     41\n",
      "2.000000     18\n",
      "3.000000     13\n",
      "1.399183      2\n",
      "           ... \n",
      "1.066169      1\n",
      "0.368026      1\n",
      "0.592607      1\n",
      "0.966617      1\n",
      "1.026452      1\n",
      "Name: count, Length: 701, dtype: int64\n"
     ]
    }
   ],
   "source": [
    "opw=data[data['NObeyesdad']==1]['FAF']\n",
    "pp=opw.value_counts()\n",
    "print(pp)\n",
    "pp_ind=pp.index\n",
    "pp_val=pp.values"
   ]
  },
  {
   "cell_type": "markdown",
   "metadata": {},
   "source": [
    "how many healthy people workout"
   ]
  },
  {
   "cell_type": "code",
   "execution_count": 185,
   "metadata": {},
   "outputs": [
    {
     "name": "stdout",
     "output_type": "stream",
     "text": [
      "FAF\n",
      "0.000000    215\n",
      "1.000000    193\n",
      "2.000000    165\n",
      "3.000000     62\n",
      "1.228136      2\n",
      "           ... \n",
      "1.487987      1\n",
      "0.023574      1\n",
      "0.463949      1\n",
      "1.230441      1\n",
      "0.647798      1\n",
      "Name: count, Length: 499, dtype: int64\n"
     ]
    }
   ],
   "source": [
    "hpw=data[data['NObeyesdad']==0]['FAF']\n",
    "hpp=hpw.value_counts()\n",
    "print(hpp)\n",
    "hpp_ind=hpp.index\n",
    "hpp_val=hpp.values"
   ]
  },
  {
   "cell_type": "markdown",
   "metadata": {},
   "source": []
  },
  {
   "cell_type": "code",
   "execution_count": 186,
   "metadata": {},
   "outputs": [
    {
     "data": {
      "image/png": "[encoded data removed]",
      "text/plain": [
       "<Figure size 640x480 with 1 Axes>"
      ]
     },
     "metadata": {},
     "output_type": "display_data"
    }
   ],
   "source": [
    "plt.bar(hpp_ind,hpp_val,color=['b'])\n",
    "plt.bar(pp_ind,pp_val , color=['r'])\n",
    "plt.xlabel(\"workout strenght\")\n",
    "plt.ylabel(\"frequency\")\n",
    "plt.show()"
   ]
  },
  {
   "cell_type": "markdown",
   "metadata": {},
   "source": []
  },
  {
   "cell_type": "code",
   "execution_count": 187,
   "metadata": {},
   "outputs": [
    {
     "data": {
      "image/png": "[encoded data removed]",
      "text/plain": [
       "<Figure size 640x480 with 1 Axes>"
      ]
     },
     "metadata": {},
     "output_type": "display_data"
    }
   ],
   "source": [
    "plt.scatter(hpp_ind,hpp_val,color=['b'])\n",
    "plt.scatter(pp_ind,pp_val , color=['r'])\n",
    "plt.xlabel(\"workout strenght\")\n",
    "plt.ylabel(\"frequency\")\n",
    "plt.show()"
   ]
  },
  {
   "cell_type": "markdown",
   "metadata": {},
   "source": []
  },
  {
   "cell_type": "code",
   "execution_count": 188,
   "metadata": {},
   "outputs": [
    {
     "data": {
      "image/png": "[encoded data removed]",
      "text/plain": [
       "<Figure size 640x480 with 1 Axes>"
      ]
     },
     "metadata": {},
     "output_type": "display_data"
    }
   ],
   "source": [
    "plt.plot(hpp_ind,hpp_val,label='hpp')\n",
    "plt.plot(pp_ind,pp_val,label='pp' )\n",
    "plt.xlabel(\"workout strenght\")\n",
    "plt.ylabel(\"frequency\")\n",
    "plt.show()"
   ]
  },
  {
   "cell_type": "markdown",
   "metadata": {},
   "source": [
    "how many obese smoke"
   ]
  },
  {
   "cell_type": "code",
   "execution_count": 189,
   "metadata": {},
   "outputs": [
    {
     "name": "stdout",
     "output_type": "stream",
     "text": [
      "SMOKE\n",
      "0    950\n",
      "1     22\n",
      "Name: count, dtype: int64\n"
     ]
    }
   ],
   "source": [
    "ops=data[data['NObeyesdad']==1]['SMOKE']\n",
    "opss=ops.value_counts()\n",
    "print(opss)\n",
    "opss_ind=opss.index\n",
    "opss_val=opss.values"
   ]
  },
  {
   "cell_type": "markdown",
   "metadata": {},
   "source": [
    "how many healthy smoke"
   ]
  },
  {
   "cell_type": "code",
   "execution_count": 190,
   "metadata": {},
   "outputs": [
    {
     "name": "stdout",
     "output_type": "stream",
     "text": [
      "SMOKE\n",
      "0    1117\n",
      "1      22\n",
      "Name: count, dtype: int64\n"
     ]
    }
   ],
   "source": [
    "hps=data[data['NObeyesdad']==0]['SMOKE']\n",
    "hpss=hps.value_counts()\n",
    "print(hpss)\n",
    "hpss_ind=hpss.index\n",
    "hpss_val=hpss.values\n"
   ]
  },
  {
   "cell_type": "markdown",
   "metadata": {},
   "source": []
  },
  {
   "cell_type": "code",
   "execution_count": 191,
   "metadata": {},
   "outputs": [],
   "source": [
    "#sns.heatmap(hpss)"
   ]
  },
  {
   "cell_type": "markdown",
   "metadata": {},
   "source": [
    "how much healthy people drink water"
   ]
  },
  {
   "cell_type": "code",
   "execution_count": 192,
   "metadata": {},
   "outputs": [
    {
     "name": "stdout",
     "output_type": "stream",
     "text": [
      "CH2O\n",
      "2.000000    372\n",
      "1.000000    154\n",
      "3.000000    109\n",
      "1.636326      2\n",
      "2.137550      2\n",
      "           ... \n",
      "1.755497      1\n",
      "1.546856      1\n",
      "2.311791      1\n",
      "2.582165      1\n",
      "1.026729      1\n",
      "Name: count, Length: 500, dtype: int64\n"
     ]
    }
   ],
   "source": [
    "hpdw=data[data['NObeyesdad']==0]['CH2O']\n",
    "hpdww=hpdw.value_counts()\n",
    "print(hpdww)\n",
    "hpdww_ind=hpdww.index\n",
    "hpdww_val=hpdww.values"
   ]
  },
  {
   "cell_type": "markdown",
   "metadata": {},
   "source": [
    "how much obese people drink water"
   ]
  },
  {
   "cell_type": "code",
   "execution_count": 193,
   "metadata": {},
   "outputs": [
    {
     "name": "stdout",
     "output_type": "stream",
     "text": [
      "CH2O\n",
      "2.000000    76\n",
      "1.000000    57\n",
      "3.000000    53\n",
      "2.184707     2\n",
      "2.530035     2\n",
      "            ..\n",
      "1.430444     1\n",
      "2.165048     1\n",
      "2.117733     1\n",
      "2.141271     1\n",
      "2.863513     1\n",
      "Name: count, Length: 787, dtype: int64\n"
     ]
    }
   ],
   "source": [
    "opdw=data[data['NObeyesdad']==1]['CH2O']\n",
    "opdww=opdw.value_counts()\n",
    "print(opdww)\n",
    "opdww_ind=opdww.index\n",
    "opdww_val=opdww.values"
   ]
  },
  {
   "cell_type": "markdown",
   "metadata": {},
   "source": [
    "how many healthy people drink alcohol"
   ]
  },
  {
   "cell_type": "code",
   "execution_count": 194,
   "metadata": {},
   "outputs": [
    {
     "name": "stdout",
     "output_type": "stream",
     "text": [
      "CALC\n",
      "1    682\n",
      "0    402\n",
      "2     54\n",
      "3      1\n",
      "Name: count, dtype: int64\n"
     ]
    }
   ],
   "source": [
    "hpda=data[data['NObeyesdad']==0]['CALC']\n",
    "hpdaa=hpda.value_counts()\n",
    "print(hpdaa)\n",
    "hpdaa_ind=hpdaa.index\n",
    "hpdaa_val=hpdaa.values"
   ]
  },
  {
   "cell_type": "markdown",
   "metadata": {},
   "source": [
    "how many obese people drink alcohol"
   ]
  },
  {
   "cell_type": "code",
   "execution_count": 195,
   "metadata": {},
   "outputs": [
    {
     "name": "stdout",
     "output_type": "stream",
     "text": [
      "CALC\n",
      "1    719\n",
      "0    237\n",
      "2     16\n",
      "Name: count, dtype: int64\n"
     ]
    }
   ],
   "source": [
    "opda=data[data['NObeyesdad']==1]['CALC']\n",
    "opdaa=opda.value_counts()\n",
    "print(opdaa)\n",
    "opdaa_ind=opdaa.index\n",
    "opdaa_val=opdaa.values\n"
   ]
  },
  {
   "cell_type": "markdown",
   "metadata": {},
   "source": [
    "on screen time ratings of obese people"
   ]
  },
  {
   "cell_type": "code",
   "execution_count": 196,
   "metadata": {},
   "outputs": [
    {
     "name": "stdout",
     "output_type": "stream",
     "text": [
      "TUE\n",
      "0.000000    204\n",
      "1.000000     47\n",
      "2.000000     27\n",
      "0.002600      3\n",
      "0.630866      3\n",
      "           ... \n",
      "0.340196      1\n",
      "0.731257      1\n",
      "0.687342      1\n",
      "0.157007      1\n",
      "0.714137      1\n",
      "Name: count, Length: 690, dtype: int64\n"
     ]
    }
   ],
   "source": [
    "stop=data[data['NObeyesdad']==1]['TUE']\n",
    "stopp=stop.value_counts()\n",
    "print(stopp)\n",
    "stopp_ind=stopp.index\n",
    "stopp_val=stopp.values\n"
   ]
  },
  {
   "cell_type": "markdown",
   "metadata": {},
   "source": [
    "on screen time ratings of healthy people"
   ]
  },
  {
   "cell_type": "code",
   "execution_count": 197,
   "metadata": {},
   "outputs": [
    {
     "name": "stdout",
     "output_type": "stream",
     "text": [
      "TUE\n",
      "0.000000    353\n",
      "1.000000    245\n",
      "2.000000     82\n",
      "0.469735      2\n",
      "0.369134      2\n",
      "           ... \n",
      "1.415536      1\n",
      "0.707044      1\n",
      "0.142056      1\n",
      "0.265790      1\n",
      "0.023564      1\n",
      "Name: count, Length: 452, dtype: int64\n"
     ]
    }
   ],
   "source": [
    "sthp=data[data['NObeyesdad']==0]['TUE']\n",
    "sthpp=sthp.value_counts()\n",
    "print(sthpp)\n",
    "sthpp_ind=sthpp.index\n",
    "sthpp_val=sthpp.values\n"
   ]
  },
  {
   "cell_type": "markdown",
   "metadata": {},
   "source": [
    "how many healthy people track their calorie intake"
   ]
  },
  {
   "cell_type": "code",
   "execution_count": 198,
   "metadata": {},
   "outputs": [
    {
     "name": "stdout",
     "output_type": "stream",
     "text": [
      "SCC\n",
      "0    1046\n",
      "1      93\n",
      "Name: count, dtype: int64\n"
     ]
    }
   ],
   "source": [
    "hpci=data[data['NObeyesdad']==0]['SCC']\n",
    "hpcii=hpci.value_counts()\n",
    "print(hpcii)\n",
    "hpcii_ind=hpcii.index\n",
    "hpcii_val=hpcii.values\n"
   ]
  },
  {
   "cell_type": "markdown",
   "metadata": {},
   "source": [
    "how many obese people track their calorie intake"
   ]
  },
  {
   "cell_type": "code",
   "execution_count": 199,
   "metadata": {},
   "outputs": [
    {
     "name": "stdout",
     "output_type": "stream",
     "text": [
      "SCC\n",
      "0    969\n",
      "1      3\n",
      "Name: count, dtype: int64\n"
     ]
    }
   ],
   "source": [
    "opci=data[data['NObeyesdad']==1]['SCC']\n",
    "opcii=opci.value_counts()\n",
    "print(opcii)\n",
    "opcii_ind=opcii.index\n",
    "opcii_val=opcii.values\n"
   ]
  },
  {
   "cell_type": "markdown",
   "metadata": {},
   "source": [
    "number  of meal taken by the healthy people in a day"
   ]
  },
  {
   "cell_type": "code",
   "execution_count": 200,
   "metadata": {},
   "outputs": [
    {
     "name": "stdout",
     "output_type": "stream",
     "text": [
      "NCP\n",
      "3.000000    525\n",
      "1.000000    160\n",
      "4.000000     68\n",
      "1.737620      2\n",
      "3.559841      2\n",
      "           ... \n",
      "3.985442      1\n",
      "1.578521      1\n",
      "3.131032      1\n",
      "1.394539      1\n",
      "1.313403      1\n",
      "Name: count, Length: 383, dtype: int64\n",
      "0 for 1-2 meals, 1 for 3 meals, and 2 for more than 3 meals\n"
     ]
    }
   ],
   "source": [
    "hpmi=data[data['NObeyesdad']==0]['NCP']\n",
    "hpmii=hpmi.value_counts()\n",
    "print(hpmii)\n",
    "print(\"0 for 1-2 meals, 1 for 3 meals, and 2 for more than 3 meals\")\n",
    "hpmii_ind=hpmii.index\n",
    "hpmii_val=hpmii.values\n"
   ]
  },
  {
   "cell_type": "markdown",
   "metadata": {},
   "source": [
    "number  of meal taken by the obese people in a day"
   ]
  },
  {
   "cell_type": "code",
   "execution_count": 201,
   "metadata": {},
   "outputs": [
    {
     "name": "stdout",
     "output_type": "stream",
     "text": [
      "NCP\n",
      "3.000000    678\n",
      "1.000000     39\n",
      "1.213431      1\n",
      "2.986637      1\n",
      "1.924168      1\n",
      "           ... \n",
      "1.000414      1\n",
      "1.135278      1\n",
      "2.463113      1\n",
      "1.782109      1\n",
      "1.089048      1\n",
      "Name: count, Length: 257, dtype: int64\n",
      "0 for 1-2 meals, 1 for 3 meals, and 2 for more than 3 meals\n"
     ]
    }
   ],
   "source": [
    "opmi=data[data['NObeyesdad']==1]['NCP']\n",
    "opmii=opmi.value_counts()\n",
    "print(opmii)\n",
    "print(\"0 for 1-2 meals, 1 for 3 meals, and 2 for more than 3 meals\")\n",
    "opmii_ind=opmii.index\n",
    "opmii_val=opmii.values\n"
   ]
  },
  {
   "cell_type": "markdown",
   "metadata": {},
   "source": [
    "how many healthy people eats vegetable in their meals"
   ]
  },
  {
   "cell_type": "code",
   "execution_count": 202,
   "metadata": {},
   "outputs": [
    {
     "name": "stdout",
     "output_type": "stream",
     "text": [
      "FCVC\n",
      "2.000000    425\n",
      "3.000000    276\n",
      "1.000000     29\n",
      "2.392665      2\n",
      "2.714447      2\n",
      "           ... \n",
      "2.673638      1\n",
      "1.118436      1\n",
      "1.649974      1\n",
      "1.036414      1\n",
      "2.076689      1\n",
      "Name: count, Length: 406, dtype: int64\n",
      "0 for not 1 for eats vegetable\n"
     ]
    }
   ],
   "source": [
    "hpev=data[data['NObeyesdad']==0]['FCVC']\n",
    "hpevv=hpev.value_counts()\n",
    "print(hpevv)\n",
    "print(\"0 for not 1 for eats vegetable\")\n",
    "hpevv_ind=hpevv.index\n",
    "hpevv_val=hpevv.values\n"
   ]
  },
  {
   "cell_type": "markdown",
   "metadata": {},
   "source": [
    "how many obese people eats vegetable in their meals"
   ]
  },
  {
   "cell_type": "code",
   "execution_count": 203,
   "metadata": {},
   "outputs": [
    {
     "name": "stdout",
     "output_type": "stream",
     "text": [
      "FCVC\n",
      "3.000000    376\n",
      "2.000000    175\n",
      "1.000000      4\n",
      "2.758394      2\n",
      "2.967300      2\n",
      "           ... \n",
      "2.490776      1\n",
      "2.312825      1\n",
      "2.348745      1\n",
      "2.393837      1\n",
      "2.680375      1\n",
      "Name: count, Length: 416, dtype: int64\n",
      "0 for not 1 for eats vegetable\n"
     ]
    }
   ],
   "source": [
    "opev=data[data['NObeyesdad']==1]['FCVC']\n",
    "opevv=opev.value_counts()\n",
    "print(opevv)\n",
    "print(\"0 for not 1 for eats vegetable\")\n",
    "hpevv_ind=opevv.index\n",
    "hpevv_val=opevv.values\n"
   ]
  },
  {
   "cell_type": "markdown",
   "metadata": {},
   "source": [
    "how many healthy people eats high calorie food"
   ]
  },
  {
   "cell_type": "code",
   "execution_count": 204,
   "metadata": {},
   "outputs": [
    {
     "name": "stdout",
     "output_type": "stream",
     "text": [
      "FAVC\n",
      "1    913\n",
      "0    226\n",
      "Name: count, dtype: int64\n",
      "0 for not 1 for eat\n"
     ]
    }
   ],
   "source": [
    "hpehcf=data[data['NObeyesdad']==0]['FAVC']\n",
    "hpehcff=hpehcf.value_counts()\n",
    "print(hpehcff)\n",
    "print(\"0 for not 1 for eat\")\n",
    "hpechff_ind=hpehcff.index\n",
    "hpechff_val=hpehcff.values\n"
   ]
  },
  {
   "cell_type": "markdown",
   "metadata": {},
   "source": [
    "how many obese people eats high calorie food"
   ]
  },
  {
   "cell_type": "code",
   "execution_count": 205,
   "metadata": {},
   "outputs": [
    {
     "name": "stdout",
     "output_type": "stream",
     "text": [
      "FAVC\n",
      "1    953\n",
      "0     19\n",
      "Name: count, dtype: int64\n",
      "0 for not 1 for eat\n"
     ]
    }
   ],
   "source": [
    "opehcf=data[data['NObeyesdad']==1]['FAVC']\n",
    "opehcff=opehcf.value_counts()\n",
    "print(opehcff)\n",
    "print(\"0 for not 1 for eat\")\n",
    "opechff_ind=opehcff.index\n",
    "opechff_val=opehcff.values\n"
   ]
  },
  {
   "cell_type": "markdown",
   "metadata": {},
   "source": [
    "how many healthy people have overweight history"
   ]
  },
  {
   "cell_type": "code",
   "execution_count": 206,
   "metadata": {},
   "outputs": [
    {
     "name": "stdout",
     "output_type": "stream",
     "text": [
      "family_history_with_overweight\n",
      "1    762\n",
      "0    377\n",
      "Name: count, dtype: int64\n",
      "0 for not 1 for have overweight history\n",
      "family overweight percentage=  66.900790166813\n"
     ]
    }
   ],
   "source": [
    "hpov=data[data['NObeyesdad']==0]['family_history_with_overweight']\n",
    "hpovv=hpov.value_counts()\n",
    "print(hpovv)\n",
    "print(\"0 for not 1 for have overweight history\")\n",
    "hpovv_ind=hpovv.index\n",
    "hpovv_val=hpovv.values\n",
    "hpovv_per=hpovv_val[0]*100/sum(hpovv_val)\n",
    "print(\"family overweight percentage= \",hpovv_per)\n"
   ]
  },
  {
   "cell_type": "markdown",
   "metadata": {},
   "source": [
    "how many obese people have overweight history"
   ]
  },
  {
   "cell_type": "code",
   "execution_count": 207,
   "metadata": {},
   "outputs": [
    {
     "name": "stdout",
     "output_type": "stream",
     "text": [
      "family_history_with_overweight\n",
      "1    964\n",
      "0      8\n",
      "Name: count, dtype: int64\n",
      "0 for not 1 for have overweight history\n",
      "family overweight percentage=  99.17695473251028\n"
     ]
    }
   ],
   "source": [
    "opov=data[data['NObeyesdad']==1]['family_history_with_overweight']\n",
    "opovv=opov.value_counts()\n",
    "print(opovv)\n",
    "print(\"0 for not 1 for have overweight history\")\n",
    "opovv_ind=opovv.index\n",
    "opovv_val=opovv.values\n",
    "opovv_per=opovv_val[0]*100/sum(opovv_val)\n",
    "print(\"family overweight percentage= \",opovv_per)\n"
   ]
  },
  {
   "cell_type": "code",
   "execution_count": null,
   "metadata": {},
   "outputs": [],
   "source": []
  }
 ],
 "metadata": {
  "kernelspec": {
   "display_name": "Python 3",
   "language": "python",
   "name": "python3"
  },
  "language_info": {
   "codemirror_mode": {
    "name": "ipython",
    "version": 3
   },
   "file_extension": ".py",
   "mimetype": "text/x-python",
   "name": "python",
   "nbconvert_exporter": "python",
   "pygments_lexer": "ipython3",
   "version": "3.11.5"
  }
 },
 "nbformat": 4,
 "nbformat_minor": 2
}
